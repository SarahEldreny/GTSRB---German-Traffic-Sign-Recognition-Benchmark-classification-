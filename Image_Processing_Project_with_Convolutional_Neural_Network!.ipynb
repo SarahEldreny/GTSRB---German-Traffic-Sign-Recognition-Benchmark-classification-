{
  "cells": [
    {
      "cell_type": "markdown",
      "metadata": {
        "id": "view-in-github",
        "colab_type": "text"
      },
      "source": [
        "<a href=\"https://colab.research.google.com/github/SarahEldreny/GTSRB---German-Traffic-Sign-Recognition-Benchmark-classification-/blob/main/Image_Processing_Project_with_Convolutional_Neural_Network!.ipynb\" target=\"_parent\"><img src=\"https://colab.research.google.com/assets/colab-badge.svg\" alt=\"Open In Colab\"/></a>"
      ]
    },
    {
      "cell_type": "markdown",
      "metadata": {
        "id": "CehjixELQEmq"
      },
      "source": [
        "#**Brief on Convolutional Neural Network**\n",
        "\n",
        "A convolutional neural network is a class of deep learning which deals with processing image and video data by extracting features from them and build a neural network by assigning them weights and convolved them with a filter to classify and identify an image.\n",
        "\n",
        "CNN is a prior choice of every data scientist to deal with any Image or video processing data. Using the transfer learning model and modifying it with our layers is also easy.\n",
        "#**Defining Problem Statement**\n",
        "\n",
        "Today self-driving cars are overtaking the automobile industry where drivers can fully depend on cars. To achieve high accuracy it’s important that cars should be able to understand all traffic rules. In this project, we are going to develop a traffic sign identification problem.\n",
        "\n",
        "There are many different traffic signs like speed limit, traffic signals, indicating directions(left or right), etc. The dataset we are working on contains 50000 images of 43 classes which are numbered from 0 to 42.\n",
        "\n",
        "You can download the dataset from here\n",
        "https://www.kaggle.com/datasets/meowmeowmeowmeowmeow/gtsrb-german-traffic-sign?resource=download.\n",
        "Start Building Image Classification Project\n",
        "\n",
        "In this project, we are going to build a complete end-to-end GUI for the Traffic Sign identification problem statement."
      ]
    },
    {
      "cell_type": "markdown",
      "metadata": {
        "id": "jz-sJDC_d3fX"
      },
      "source": [
        "#**Step-1**) Explore the Dataset\n",
        "\n",
        "Load Dataset"
      ]
    },
    {
      "cell_type": "code",
      "execution_count": 1,
      "metadata": {
        "id": "gBx2oIl1a8yB"
      },
      "outputs": [],
      "source": [
        "#Import all the libraries\n",
        "\n",
        "import os\n",
        "import numpy as np\n",
        "import pandas as pd\n",
        "import matplotlib.pyplot as plt\n",
        "from PIL import Image\n",
        "import tensorflow as tf\n",
        "from keras.utils import to_categorical\n",
        "from keras.layers import Conv2D, Dense, Flatten, MaxPool2D, Dropout"
      ]
    },
    {
      "cell_type": "markdown",
      "metadata": {
        "id": "k6KSwdbJciek"
      },
      "source": [
        "Now what we will do is load all the images in a single list in form of an array that will describe the pixels of the image and another list which will contain labels of the corresponding image. To feed image data to the model we need to convert it into a NumPy array.\n",
        "\n",
        "The training dataset contains a different folder with the name of classes named 0 to 42. with the help of the os module we will iterate through each class folder and append the image and respective label to the list. we also have CSV files that contain the actual label category name."
      ]
    },
    {
      "cell_type": "code",
      "execution_count": 2,
      "metadata": {
        "colab": {
          "base_uri": "https://localhost:8080/"
        },
        "id": "6uknQmwtjj-r",
        "outputId": "ba4f6b0b-67b6-4ec7-b7ce-81734e3ec81e"
      },
      "outputs": [
        {
          "output_type": "stream",
          "name": "stdout",
          "text": [
            "Drive already mounted at /content/drive; to attempt to forcibly remount, call drive.mount(\"/content/drive\", force_remount=True).\n"
          ]
        }
      ],
      "source": [
        "from google.colab import drive\n",
        "drive.mount('/content/drive')"
      ]
    },
    {
      "cell_type": "code",
      "execution_count": 3,
      "metadata": {
        "colab": {
          "base_uri": "https://localhost:8080/"
        },
        "id": "gRkg4eDJlY9k",
        "outputId": "afef3eac-2ccf-44df-9678-6ab3f01faaf8"
      },
      "outputs": [
        {
          "output_type": "stream",
          "name": "stdout",
          "text": [
            "/content/drive/MyDrive/GTSRB - German Traffic Sign Recognition Benchmark\n"
          ]
        }
      ],
      "source": [
        "%cd /content/drive/MyDrive/GTSRB - German Traffic Sign Recognition Benchmark"
      ]
    },
    {
      "cell_type": "code",
      "execution_count": 4,
      "metadata": {
        "id": "w5Sraa-Wl3ll"
      },
      "outputs": [],
      "source": [
        "#!unzip GTSRB.zip"
      ]
    },
    {
      "cell_type": "code",
      "execution_count": 5,
      "metadata": {
        "colab": {
          "base_uri": "https://localhost:8080/",
          "height": 466
        },
        "id": "eBfT_ePVQaZ-",
        "outputId": "0eb14fda-3910-418f-ae7b-fd509b7efc18"
      },
      "outputs": [
        {
          "output_type": "stream",
          "name": "stdout",
          "text": [
            "Success. Time taken: 725.68 seconds\n",
            "Processed 39209 images.\n"
          ]
        },
        {
          "output_type": "display_data",
          "data": {
            "text/plain": [
              "<Figure size 640x480 with 1 Axes>"
            ],
            "image/png": "[encoded data removed]"
          },
          "metadata": {}
        }
      ],
      "source": [
        "import os\n",
        "from PIL import Image\n",
        "import numpy as np\n",
        "import time\n",
        "\n",
        "# Define the path to the images directory\n",
        "imgs_path = \"/content/drive/MyDrive/GTSRB - German Traffic Sign Recognition Benchmark/Train\"\n",
        "data = []\n",
        "labels = []\n",
        "classes = 43  # Total number of classes in the dataset\n",
        "\n",
        "# Start timing\n",
        "start_time = time.time()\n",
        "\n",
        "# Loop through each class directory\n",
        "for i in range(classes):\n",
        "    img_path = os.path.join(imgs_path, str(i))  # Path to the current class directory\n",
        "    for img in os.listdir(img_path):\n",
        "        im = Image.open(os.path.join(img_path, img))  # Open the image file\n",
        "        im = im.resize((30, 30))  # Resize the image to 30x30 pixels\n",
        "        im = np.array(im)  # Convert the image to a NumPy array\n",
        "        data.append(im)  # Append the image data to the list\n",
        "        labels.append(i)  # Append the class label to the list\n",
        "\n",
        "# Convert the lists to NumPy arrays\n",
        "data = np.array(data)\n",
        "labels = np.array(labels)\n",
        "\n",
        "# End timing\n",
        "end_time = time.time()\n",
        "elapsed_time = end_time - start_time\n",
        "\n",
        "print(f\"Success. Time taken: {elapsed_time:.2f} seconds\")\n",
        "print(f\"Processed {len(data)} images.\")\n",
        "\n",
        "# Optionally, display the first image to verify\n",
        "import matplotlib.pyplot as plt\n",
        "\n",
        "if len(data) > 0:\n",
        "    plt.imshow(data[0])\n",
        "    plt.show()\n",
        "else:\n",
        "    print(\"No images found.\")\n"
      ]
    },
    {
      "cell_type": "markdown",
      "metadata": {
        "id": "AWDOfYsuhfbG"
      },
      "source": [
        "#**Explore sample Image**"
      ]
    },
    {
      "cell_type": "code",
      "execution_count": 7,
      "metadata": {
        "colab": {
          "base_uri": "https://localhost:8080/",
          "height": 430
        },
        "id": "I6xU8JOucswa",
        "outputId": "08389154-7a5a-4eeb-bcfa-b254ab058533"
      },
      "outputs": [
        {
          "output_type": "display_data",
          "data": {
            "text/plain": [
              "<Figure size 640x480 with 1 Axes>"
            ],
            "image/png": "[encoded data removed]"
          },
          "metadata": {}
        }
      ],
      "source": [
        "#let’s look at one any sample image using pillow library.\n",
        "\n",
        "path = \"/content/drive/MyDrive/GTSRB - German Traffic Sign Recognition Benchmark/Train/0/00000_00001_00006.png\"\n",
        "img = Image.open(path)\n",
        "img = img.resize((30, 30))\n",
        "sr = np.array(img)\n",
        "plt.imshow(img)\n",
        "plt.show()"
      ]
    },
    {
      "cell_type": "markdown",
      "metadata": {
        "id": "QB3xKV3Ch0J8"
      },
      "source": [
        "#**Step-2 Split Dataset into train and test**\n",
        "We will use the to_categorical method to convert labels into one-hot encoding."
      ]
    },
    {
      "cell_type": "code",
      "execution_count": 8,
      "metadata": {
        "colab": {
          "base_uri": "https://localhost:8080/"
        },
        "id": "K94ngeHxhqfZ",
        "outputId": "cb856f68-b37d-46f7-c748-31c893b43008"
      },
      "outputs": [
        {
          "output_type": "stream",
          "name": "stdout",
          "text": [
            "training shape:  (31367, 30, 30, 3) (31367,)\n",
            "testing shape:  (7842, 30, 30, 3) (7842,)\n"
          ]
        }
      ],
      "source": [
        "from sklearn.model_selection import train_test_split\n",
        "x_train, x_test, y_train, y_test = train_test_split(data, labels, test_size=0.2, random_state=42)\n",
        "print(\"training shape: \",x_train.shape, y_train.shape)\n",
        "print(\"testing shape: \",x_test.shape, y_test.shape)\n",
        "y_train = to_categorical(y_train, 43)\n",
        "y_test = to_categorical(y_test, 43)"
      ]
    },
    {
      "cell_type": "markdown",
      "metadata": {
        "id": "pBiQsyACiFgq"
      },
      "source": [
        "\n",
        "#**Step-3) Build a CNN model**\n",
        "Now we will start developing a convolutional neural network to classify images for correct labels. CNN is best to work with image data.\n",
        "\n",
        "The architecture of our CNN model\n",
        "\n",
        "    Conv2D layer –  we will add 2 convolutional layers of 32 filters, size of 5*5, and activation as relu\n",
        "    Max Pooling – MaxPool2D with 2*2 layers\n",
        "    Dropout with a rate of 0.25.0\n",
        "    2 Convolutional layer of 64 filters and size of 3*3\n",
        "    Dropout with a rate of 0.25\n",
        "     Flattenn layer to squeeze the layers into 1 dimension\n",
        "    Dense, feed-forward neural network(256 nodes, activation=”relu”)\n",
        "    Dropout Layer(0.5)\n",
        "    Dense layer(nodes=46, activation=”softmax”)\n",
        "\n",
        "    MaxPool2D – Maximum pooling layer is used to reduce the size of images\n",
        "    Dropout – Dropout is a regularization technique to reduce overfitting\n",
        "    Flatten – to convert the parrel layers to squeeze the layers\n",
        "    Dense –  for feed-forward neural network\n",
        "    the last layer will have an activation function as softmax for Multi-class classification.\n"
      ]
    },
    {
      "cell_type": "code",
      "execution_count": 9,
      "metadata": {
        "id": "Vct8PVewiA5G"
      },
      "outputs": [],
      "source": [
        "from tensorflow.keras.models import Sequential\n",
        "\n",
        "model = Sequential()\n",
        "model.add(Conv2D(filters=32, kernel_size=(5,5), activation=\"relu\", input_shape=x_train.shape[1:]))\n",
        "model.add(Conv2D(filters=32, kernel_size=(5,5), activation=\"relu\"))\n",
        "model.add(MaxPool2D(pool_size=(2,2)))\n",
        "model.add(Dropout(rate=0.25))\n",
        "model.add(Conv2D(filters=64, kernel_size=(3,3), activation=\"relu\"))\n",
        "model.add(Conv2D(filters=64, kernel_size=(3,3), activation=\"relu\"))\n",
        "model.add(MaxPool2D(pool_size=(2,2)))\n",
        "model.add(Dropout(rate=0.25))\n",
        "model.add(Flatten())\n",
        "model.add(Dense(256, activation=\"relu\"))\n",
        "model.add(Dropout(rate=0.5))\n",
        "model.add(Dense(43, activation=\"softmax\"))"
      ]
    },
    {
      "cell_type": "markdown",
      "metadata": {
        "id": "c9tjeLHi0e5c"
      },
      "source": [
        "#**Step-4) Train and Validate the Model**\n",
        "\n",
        "let’s first compile the model. during compiling we need to describe the loss function and optimizer to use.\n",
        "\n"
      ]
    },
    {
      "cell_type": "code",
      "execution_count": 10,
      "metadata": {
        "id": "mDtzvubG0hhH"
      },
      "outputs": [],
      "source": [
        "model.compile(loss=\"categorical_crossentropy\", optimizer=\"adam\", metrics=[\"accuracy\"])"
      ]
    },
    {
      "cell_type": "markdown",
      "metadata": {
        "id": "baIefU_eieUd"
      },
      "source": [
        "\n",
        "\n",
        "    Loss Function – to calculate the loss done by model. we will use categorical cross-entropy as we have a multiclass classification problem statement\n",
        "    Optimizer – Optimize to optimize the loss function\n",
        "\n",
        "Let’s fit the train and test data to model and start training the convolutional model. we need to define a number of epochs to train for and batch size to consider while training the model."
      ]
    },
    {
      "cell_type": "code",
      "execution_count": 11,
      "metadata": {
        "colab": {
          "base_uri": "https://localhost:8080/"
        },
        "id": "XX1Ea3YTidy8",
        "outputId": "80eb22a9-2496-4185-968c-4c26e2328b0d"
      },
      "outputs": [
        {
          "output_type": "stream",
          "name": "stdout",
          "text": [
            "Epoch 1/15\n",
            "491/491 [==============================] - 164s 330ms/step - loss: 2.5232 - accuracy: 0.3912 - val_loss: 0.9803 - val_accuracy: 0.7920\n",
            "Epoch 2/15\n",
            "491/491 [==============================] - 142s 290ms/step - loss: 1.1031 - accuracy: 0.6871 - val_loss: 0.5304 - val_accuracy: 0.8579\n",
            "Epoch 3/15\n",
            "491/491 [==============================] - 131s 268ms/step - loss: 0.7845 - accuracy: 0.7735 - val_loss: 0.3692 - val_accuracy: 0.9047\n",
            "Epoch 4/15\n",
            "491/491 [==============================] - 127s 259ms/step - loss: 0.6542 - accuracy: 0.8037 - val_loss: 0.2452 - val_accuracy: 0.9322\n",
            "Epoch 5/15\n",
            "491/491 [==============================] - 132s 269ms/step - loss: 0.5394 - accuracy: 0.8387 - val_loss: 0.2404 - val_accuracy: 0.9272\n",
            "Epoch 6/15\n",
            "491/491 [==============================] - 128s 262ms/step - loss: 0.4675 - accuracy: 0.8610 - val_loss: 0.1667 - val_accuracy: 0.9572\n",
            "Epoch 7/15\n",
            "491/491 [==============================] - 130s 264ms/step - loss: 0.3440 - accuracy: 0.8968 - val_loss: 0.1130 - val_accuracy: 0.9654\n",
            "Epoch 8/15\n",
            "491/491 [==============================] - 127s 259ms/step - loss: 0.2984 - accuracy: 0.9121 - val_loss: 0.1218 - val_accuracy: 0.9656\n",
            "Epoch 9/15\n",
            "491/491 [==============================] - 134s 272ms/step - loss: 0.2488 - accuracy: 0.9256 - val_loss: 0.0758 - val_accuracy: 0.9791\n",
            "Epoch 10/15\n",
            "491/491 [==============================] - 142s 289ms/step - loss: 0.2390 - accuracy: 0.9301 - val_loss: 0.0952 - val_accuracy: 0.9735\n",
            "Epoch 11/15\n",
            "491/491 [==============================] - 142s 289ms/step - loss: 0.2156 - accuracy: 0.9347 - val_loss: 0.0727 - val_accuracy: 0.9836\n",
            "Epoch 12/15\n",
            "491/491 [==============================] - 144s 294ms/step - loss: 0.1948 - accuracy: 0.9423 - val_loss: 0.0653 - val_accuracy: 0.9820\n",
            "Epoch 13/15\n",
            "491/491 [==============================] - 142s 289ms/step - loss: 0.1997 - accuracy: 0.9426 - val_loss: 0.0749 - val_accuracy: 0.9793\n",
            "Epoch 14/15\n",
            "491/491 [==============================] - 145s 296ms/step - loss: 0.1852 - accuracy: 0.9455 - val_loss: 0.0539 - val_accuracy: 0.9871\n",
            "Epoch 15/15\n",
            "491/491 [==============================] - 144s 293ms/step - loss: 0.1839 - accuracy: 0.9458 - val_loss: 0.0597 - val_accuracy: 0.9842\n"
          ]
        }
      ],
      "source": [
        "history = model.fit(x_train, y_train, epochs=15, batch_size=64, validation_data=(x_test, y_test))"
      ]
    },
    {
      "cell_type": "markdown",
      "metadata": {
        "id": "hJRIJs9GiqlK"
      },
      "source": [
        "\n",
        "It will take some time to run so please keep patience till it runs.\n",
        "\n",
        "Our model received an accuracy of 95% on training data. Now let us plot an accuracy and loss graph using Matplotlib."
      ]
    },
    {
      "cell_type": "code",
      "execution_count": 12,
      "metadata": {
        "colab": {
          "base_uri": "https://localhost:8080/",
          "height": 927
        },
        "id": "c8wxLLHiin1l",
        "outputId": "b6128732-592f-4220-979b-27bf89b6314a"
      },
      "outputs": [
        {
          "output_type": "display_data",
          "data": {
            "text/plain": [
              "<Figure size 640x480 with 1 Axes>"
            ],
            "image/png": "[encoded data removed]"
          },
          "metadata": {}
        },
        {
          "output_type": "display_data",
          "data": {
            "text/plain": [
              "<Figure size 640x480 with 1 Axes>"
            ],
            "image/png": "[encoded data removed]"
          },
          "metadata": {}
        }
      ],
      "source": [
        "plt.figure(0)\n",
        "plt.plot(history.history['accuracy'], label=\"Training accuracy\")\n",
        "plt.plot(history.history['val_accuracy'], label=\"val accuracy\")\n",
        "plt.title(\"Accuracy\")\n",
        "plt.xlabel(\"epochs\")\n",
        "plt.ylabel(\"accuracy\")\n",
        "plt.legend()\n",
        "plt.figure(1)\n",
        "plt.plot(history.history['loss'], label=\"training loss\")\n",
        "plt.plot(history.history['val_loss'], label=\"val loss\")\n",
        "plt.title(\"Loss\")\n",
        "plt.xlabel(\"epochs\")\n",
        "plt.ylabel(\"Loss\")\n",
        "plt.legend()\n",
        "plt.show()"
      ]
    },
    {
      "cell_type": "markdown",
      "metadata": {
        "id": "65cAwg4Si5bm"
      },
      "source": [
        "accuracy\n",
        "\n",
        "Image classification | loss\n",
        "\n",
        "Our model is performing descent well and gives very well performance, We can see the increasing accuracy and decreasing loss on the graph.\n",
        "#**Step-5) Test the Model**\n",
        "\n",
        "The dataset contains a test folder that has different test images and a test.csv file that contains details related to the image path and respective labels. Again we will load the data using pandas and resize it to the shape of 30*30 pixels and convert it to a NumPy array. After processing test images we will check the accuracy of the model against actual labels."
      ]
    },
    {
      "cell_type": "code",
      "execution_count": 25,
      "metadata": {
        "id": "kDXioGJ_i9UW"
      },
      "outputs": [],
      "source": [
        "# from sklearn.metrics import accuracy_score\n",
        "# test = pd.read_csv(\"gtsrb-german-traffic-sign/Test.csv\")\n",
        "# test_labels = test['ClassId'].values\n",
        "# test_img_path = \"../input/gtsrb-german-traffic-sign\"\n",
        "# test_imgs = test['Path'].values\n",
        "# test_data = []\n",
        "# test_labels = []\n",
        "# for img in test_imgs:\n",
        "#     im = Image.open(test_img_path + '/' + img)\n",
        "#     im = im.resize((30,30))\n",
        "#     im = np.array(im)\n",
        "#     test_data.append(im)\n",
        "# test_data = np.array(test_data)\n",
        "# predictions = model.predict_classes(test_data)\n",
        "# print(\"accuracy: \", accuracy_score(test_labels, predictions))"
      ]
    },
    {
      "cell_type": "code",
      "source": [
        "import pandas as pd\n",
        "import numpy as np\n",
        "from PIL import Image\n",
        "from sklearn.metrics import accuracy_score\n",
        "\n",
        "# Read the test CSV file\n",
        "test = pd.read_csv(\"/content/drive/MyDrive/GTSRB - German Traffic Sign Recognition Benchmark/Test.csv\")\n",
        "\n",
        "# Extract test labels from the CSV\n",
        "test_labels = test['ClassId'].values\n",
        "\n",
        "# Define the path to the test images directory\n",
        "test_img_path = \"/content/drive/MyDrive/GTSRB - German Traffic Sign Recognition Benchmark\"\n",
        "\n",
        "# Extract test image paths from the CSV\n",
        "test_imgs = test['Path'].values\n",
        "\n",
        "# Initialize lists to store test data and predictions\n",
        "test_data = []\n",
        "\n",
        "# Loop through each test image\n",
        "for img in test_imgs:\n",
        "    # Open and resize the image\n",
        "    im = Image.open(test_img_path + '/' + img)\n",
        "    im = im.resize((30, 30))\n",
        "    im = np.array(im)\n",
        "    test_data.append(im)\n",
        "\n",
        "# Convert the test data list to a NumPy array\n",
        "test_data = np.array(test_data)\n",
        "\n",
        "# Normalize the test data\n",
        "test_data = test_data / 255.0\n",
        "\n",
        "# Predict classes for the test data\n",
        "predictions = model.predict(test_data)\n",
        "predicted_classes = np.argmax(predictions, axis=1)\n",
        "\n",
        "# Calculate accuracy\n",
        "accuracy = accuracy_score(test_labels, predicted_classes)\n",
        "print(\"Accuracy:\", accuracy)\n"
      ],
      "metadata": {
        "colab": {
          "base_uri": "https://localhost:8080/"
        },
        "id": "kVci8WeGJMUz",
        "outputId": "cdfe614e-ff31-4f6c-b3c1-5ab317135ad3"
      },
      "execution_count": 18,
      "outputs": [
        {
          "output_type": "stream",
          "name": "stdout",
          "text": [
            "395/395 [==============================] - 15s 38ms/step\n",
            "Accuracy: 0.08741092636579573\n"
          ]
        }
      ]
    },
    {
      "cell_type": "markdown",
      "metadata": {
        "id": "4bAET92UjLMJ"
      },
      "source": [
        "#**Step-6) Save the Model**\n",
        "\n",
        "Save the model for future use as well, we will use the dump model to create a GUI for Traffic Classification Project."
      ]
    },
    {
      "cell_type": "code",
      "execution_count": 19,
      "metadata": {
        "colab": {
          "base_uri": "https://localhost:8080/"
        },
        "id": "ATkA4B5UjBMa",
        "outputId": "0cb224b1-a98e-4e94-c52c-8b08ecfaccf3"
      },
      "outputs": [
        {
          "output_type": "stream",
          "name": "stderr",
          "text": [
            "/usr/local/lib/python3.10/dist-packages/keras/src/engine/training.py:3103: UserWarning: You are saving your model as an HDF5 file via `model.save()`. This file format is considered legacy. We recommend using instead the native Keras format, e.g. `model.save('my_model.keras')`.\n",
            "  saving_api.save_model(\n"
          ]
        }
      ],
      "source": [
        "model.save('traffic_classifier.h5')"
      ]
    },
    {
      "cell_type": "markdown",
      "metadata": {
        "id": "chCYyrYajUn-"
      },
      "source": [
        "Hence we have successfully built and evaluated our Convolutional neural network for the image classification task. Now we will work on the frontend part and deploy our model on GUI using the python Tkinter library.\n",
        "#**Build Traffic Classification GUI**\n",
        "\n",
        "let’s start developing GUI using the python Tkinter library. first, we will load the deployed model then we will define class names in the dictionary. And then we will create one by one function to upload and classify images."
      ]
    },
    {
      "cell_type": "code",
      "execution_count": 24,
      "metadata": {
        "id": "PSxwmfmhjQng"
      },
      "outputs": [],
      "source": [
        "# from tkinter import filedialog\n",
        "# from tkinter import *\n",
        "# import tkinter as tk\n",
        "# from PIL import ImageTk, Image\n",
        "# from keras.models import load_model\n",
        "# import numpy as np\n",
        "# #load the trained model to classify traffic signs\n",
        "# model = load_model('traffic_classifier.h5')\n",
        "# #dictionary to label all traffic signs class.\n",
        "# classes = { 1:'Speed limit (20km/h)',\n",
        "#             2:'Speed limit (30km/h)',\n",
        "#             3:'Speed limit (50km/h)',\n",
        "#             4:'Speed limit (60km/h)',\n",
        "#             5:'Speed limit (70km/h)',\n",
        "#             6:'Speed limit (80km/h)',\n",
        "#             7:'End of speed limit (80km/h)',\n",
        "#             8:'Speed limit (100km/h)',\n",
        "#             9:'Speed limit (120km/h)',\n",
        "#             10:'No passing',\n",
        "#             11:'No passing veh over 3.5 tons',\n",
        "#             12:'Right-of-way at intersection',\n",
        "#             13:'Priority road',\n",
        "#             14:'Yield',\n",
        "#             15:'Stop',\n",
        "#             16:'No vehicles',\n",
        "#             17:'Veh > 3.5 tons prohibited',\n",
        "#             18:'No entry',\n",
        "#             19:'General caution',\n",
        "#             20:'Dangerous curve left',\n",
        "#             21:'Dangerous curve right',\n",
        "#             22:'Double curve',\n",
        "#             23:'Bumpy road',\n",
        "#             24:'Slippery road',\n",
        "#             25:'Road narrows on the right',\n",
        "#             26:'Road work',\n",
        "#             27:'Traffic signals',\n",
        "#             28:'Pedestrians',\n",
        "#             29:'Children crossing',\n",
        "#             30:'Bicycles crossing',\n",
        "#             31:'Beware of ice/snow',\n",
        "#             32:'Wild animals crossing',\n",
        "#             33:'End speed + passing limits',\n",
        "#             34:'Turn right ahead',\n",
        "#             35:'Turn left ahead',\n",
        "#             36:'Ahead only',\n",
        "#             37:'Go straight or right',\n",
        "#             38:'Go straight or left',\n",
        "#             39:'Keep right',\n",
        "#             40:'Keep left',\n",
        "#             41:'Roundabout mandatory',\n",
        "#             42:'End of no passing',\n",
        "#             43:'End no passing veh > 3.5 tons' }\n",
        "# #initialize GUI\n",
        "# top=tk.Tk()\n",
        "# top.geometry('800x600')\n",
        "# top.title('Traffic sign classification')\n",
        "# top.configure(background='#CDCDCD')\n",
        "# label=Label(top,background='#CDCDCD', font=('arial',15,'bold'))\n",
        "# sign_image = Label(top)\n",
        "# def classify(file_path):\n",
        "#     global label_packed\n",
        "#     image = Image.open(file_path)\n",
        "#     image = image.resize((30,30))\n",
        "#     image = numpy.expand_dims(image, axis=0)\n",
        "#     image = numpy.array(image)\n",
        "#     pred = model.predict_classes([image])[0]\n",
        "#     sign = classes[pred+1]\n",
        "#     print(sign)\n",
        "#     label.configure(foreground='#011638', text=sign)\n",
        "# def show_classify_button(file_path):\n",
        "#     classify_b=Button(top,text=\"Classify Image\",command=lambda: classify(file_path),padx=10,pady=5)\n",
        "#     classify_b.configure(background='#364156', foreground='white',font=('arial',10,'bold'))\n",
        "#     classify_b.place(relx=0.79,rely=0.46)\n",
        "# def upload_image():\n",
        "#     try:\n",
        "#         file_path=filedialog.askopenfilename()\n",
        "#         uploaded=Image.open(file_path)\n",
        "#         uploaded.thumbnail(((top.winfo_width()/2.25),(top.winfo_height()/2.25)))\n",
        "#         im=ImageTk.PhotoImage(uploaded)\n",
        "#         sign_image.configure(image=im)\n",
        "#         sign_image.image=im\n",
        "#         label.configure(text='')\n",
        "#         show_classify_button(file_path)\n",
        "#     except:\n",
        "#         pass\n",
        "# upload=Button(top,text=\"Upload an image\",command=upload_image,padx=10,pady=5)\n",
        "# upload.configure(background='#364156', foreground='white',font=('arial',10,'bold'))\n",
        "# upload.pack(side=BOTTOM,pady=50)\n",
        "# sign_image.pack(side=BOTTOM,expand=True)\n",
        "# label.pack(side=BOTTOM,expand=True)\n",
        "# heading = Label(top, text=\"Know Your Traffic Sign\",pady=20, font=('arial',20,'bold'))\n",
        "# heading.configure(background='#CDCDCD',foreground='#364156')\n",
        "# heading.pack()\n",
        "# top.mainloop()"
      ]
    },
    {
      "cell_type": "markdown",
      "source": [
        "# Replacing with Streamlit:\n",
        "\n",
        "To replace Tkinter with Streamlit, you would need to rewrite the GUI part of the code using Streamlit syntax and deploy it on a Streamlit server. Streamlit simplifies the process of building interactive web applications in Python. Here's how you can rewrite the code using Streamlit:"
      ],
      "metadata": {
        "id": "_6XnsGAQAnHU"
      }
    },
    {
      "cell_type": "code",
      "source": [
        "!pip install streamlit"
      ],
      "metadata": {
        "colab": {
          "base_uri": "https://localhost:8080/"
        },
        "id": "y-FvC5BZReu8",
        "outputId": "6aede8f3-ad6f-423c-aab9-1ae8408c0942"
      },
      "execution_count": 22,
      "outputs": [
        {
          "output_type": "stream",
          "name": "stdout",
          "text": [
            "Collecting streamlit\n",
            "  Downloading streamlit-1.34.0-py2.py3-none-any.whl (8.5 MB)\n",
            "\u001b[2K     \u001b[90m━━━━━━━━━━━━━━━━━━━━━━━━━━━━━━━━━━━━━━━━\u001b[0m \u001b[32m8.5/8.5 MB\u001b[0m \u001b[31m15.5 MB/s\u001b[0m eta \u001b[36m0:00:00\u001b[0m\n",
            "\u001b[?25hRequirement already satisfied: altair<6,>=4.0 in /usr/local/lib/python3.10/dist-packages (from streamlit) (4.2.2)\n",
            "Requirement already satisfied: blinker<2,>=1.0.0 in /usr/lib/python3/dist-packages (from streamlit) (1.4)\n",
            "Requirement already satisfied: cachetools<6,>=4.0 in /usr/local/lib/python3.10/dist-packages (from streamlit) (5.3.3)\n",
            "Requirement already satisfied: click<9,>=7.0 in /usr/local/lib/python3.10/dist-packages (from streamlit) (8.1.7)\n",
            "Requirement already satisfied: numpy<2,>=1.19.3 in /usr/local/lib/python3.10/dist-packages (from streamlit) (1.25.2)\n",
            "Requirement already satisfied: packaging<25,>=16.8 in /usr/local/lib/python3.10/dist-packages (from streamlit) (24.0)\n",
            "Requirement already satisfied: pandas<3,>=1.3.0 in /usr/local/lib/python3.10/dist-packages (from streamlit) (2.0.3)\n",
            "Requirement already satisfied: pillow<11,>=7.1.0 in /usr/local/lib/python3.10/dist-packages (from streamlit) (9.4.0)\n",
            "Requirement already satisfied: protobuf<5,>=3.20 in /usr/local/lib/python3.10/dist-packages (from streamlit) (3.20.3)\n",
            "Requirement already satisfied: pyarrow>=7.0 in /usr/local/lib/python3.10/dist-packages (from streamlit) (14.0.2)\n",
            "Requirement already satisfied: requests<3,>=2.27 in /usr/local/lib/python3.10/dist-packages (from streamlit) (2.31.0)\n",
            "Requirement already satisfied: rich<14,>=10.14.0 in /usr/local/lib/python3.10/dist-packages (from streamlit) (13.7.1)\n",
            "Requirement already satisfied: tenacity<9,>=8.1.0 in /usr/local/lib/python3.10/dist-packages (from streamlit) (8.3.0)\n",
            "Requirement already satisfied: toml<2,>=0.10.1 in /usr/local/lib/python3.10/dist-packages (from streamlit) (0.10.2)\n",
            "Requirement already satisfied: typing-extensions<5,>=4.3.0 in /usr/local/lib/python3.10/dist-packages (from streamlit) (4.11.0)\n",
            "Collecting gitpython!=3.1.19,<4,>=3.0.7 (from streamlit)\n",
            "  Downloading GitPython-3.1.43-py3-none-any.whl (207 kB)\n",
            "\u001b[2K     \u001b[90m━━━━━━━━━━━━━━━━━━━━━━━━━━━━━━━━━━━━━━━━\u001b[0m \u001b[32m207.3/207.3 kB\u001b[0m \u001b[31m17.9 MB/s\u001b[0m eta \u001b[36m0:00:00\u001b[0m\n",
            "\u001b[?25hCollecting pydeck<1,>=0.8.0b4 (from streamlit)\n",
            "  Downloading pydeck-0.9.1-py2.py3-none-any.whl (6.9 MB)\n",
            "\u001b[2K     \u001b[90m━━━━━━━━━━━━━━━━━━━━━━━━━━━━━━━━━━━━━━━━\u001b[0m \u001b[32m6.9/6.9 MB\u001b[0m \u001b[31m29.6 MB/s\u001b[0m eta \u001b[36m0:00:00\u001b[0m\n",
            "\u001b[?25hRequirement already satisfied: tornado<7,>=6.0.3 in /usr/local/lib/python3.10/dist-packages (from streamlit) (6.3.3)\n",
            "Collecting watchdog>=2.1.5 (from streamlit)\n",
            "  Downloading watchdog-4.0.0-py3-none-manylinux2014_x86_64.whl (82 kB)\n",
            "\u001b[2K     \u001b[90m━━━━━━━━━━━━━━━━━━━━━━━━━━━━━━━━━━━━━━━━\u001b[0m \u001b[32m83.0/83.0 kB\u001b[0m \u001b[31m7.1 MB/s\u001b[0m eta \u001b[36m0:00:00\u001b[0m\n",
            "\u001b[?25hRequirement already satisfied: entrypoints in /usr/local/lib/python3.10/dist-packages (from altair<6,>=4.0->streamlit) (0.4)\n",
            "Requirement already satisfied: jinja2 in /usr/local/lib/python3.10/dist-packages (from altair<6,>=4.0->streamlit) (3.1.4)\n",
            "Requirement already satisfied: jsonschema>=3.0 in /usr/local/lib/python3.10/dist-packages (from altair<6,>=4.0->streamlit) (4.19.2)\n",
            "Requirement already satisfied: toolz in /usr/local/lib/python3.10/dist-packages (from altair<6,>=4.0->streamlit) (0.12.1)\n",
            "Collecting gitdb<5,>=4.0.1 (from gitpython!=3.1.19,<4,>=3.0.7->streamlit)\n",
            "  Downloading gitdb-4.0.11-py3-none-any.whl (62 kB)\n",
            "\u001b[2K     \u001b[90m━━━━━━━━━━━━━━━━━━━━━━━━━━━━━━━━━━━━━━━━\u001b[0m \u001b[32m62.7/62.7 kB\u001b[0m \u001b[31m5.4 MB/s\u001b[0m eta \u001b[36m0:00:00\u001b[0m\n",
            "\u001b[?25hRequirement already satisfied: python-dateutil>=2.8.2 in /usr/local/lib/python3.10/dist-packages (from pandas<3,>=1.3.0->streamlit) (2.8.2)\n",
            "Requirement already satisfied: pytz>=2020.1 in /usr/local/lib/python3.10/dist-packages (from pandas<3,>=1.3.0->streamlit) (2023.4)\n",
            "Requirement already satisfied: tzdata>=2022.1 in /usr/local/lib/python3.10/dist-packages (from pandas<3,>=1.3.0->streamlit) (2024.1)\n",
            "Requirement already satisfied: charset-normalizer<4,>=2 in /usr/local/lib/python3.10/dist-packages (from requests<3,>=2.27->streamlit) (3.3.2)\n",
            "Requirement already satisfied: idna<4,>=2.5 in /usr/local/lib/python3.10/dist-packages (from requests<3,>=2.27->streamlit) (3.7)\n",
            "Requirement already satisfied: urllib3<3,>=1.21.1 in /usr/local/lib/python3.10/dist-packages (from requests<3,>=2.27->streamlit) (2.0.7)\n",
            "Requirement already satisfied: certifi>=2017.4.17 in /usr/local/lib/python3.10/dist-packages (from requests<3,>=2.27->streamlit) (2024.2.2)\n",
            "Requirement already satisfied: markdown-it-py>=2.2.0 in /usr/local/lib/python3.10/dist-packages (from rich<14,>=10.14.0->streamlit) (3.0.0)\n",
            "Requirement already satisfied: pygments<3.0.0,>=2.13.0 in /usr/local/lib/python3.10/dist-packages (from rich<14,>=10.14.0->streamlit) (2.16.1)\n",
            "Collecting smmap<6,>=3.0.1 (from gitdb<5,>=4.0.1->gitpython!=3.1.19,<4,>=3.0.7->streamlit)\n",
            "  Downloading smmap-5.0.1-py3-none-any.whl (24 kB)\n",
            "Requirement already satisfied: MarkupSafe>=2.0 in /usr/local/lib/python3.10/dist-packages (from jinja2->altair<6,>=4.0->streamlit) (2.1.5)\n",
            "Requirement already satisfied: attrs>=22.2.0 in /usr/local/lib/python3.10/dist-packages (from jsonschema>=3.0->altair<6,>=4.0->streamlit) (23.2.0)\n",
            "Requirement already satisfied: jsonschema-specifications>=2023.03.6 in /usr/local/lib/python3.10/dist-packages (from jsonschema>=3.0->altair<6,>=4.0->streamlit) (2023.12.1)\n",
            "Requirement already satisfied: referencing>=0.28.4 in /usr/local/lib/python3.10/dist-packages (from jsonschema>=3.0->altair<6,>=4.0->streamlit) (0.35.1)\n",
            "Requirement already satisfied: rpds-py>=0.7.1 in /usr/local/lib/python3.10/dist-packages (from jsonschema>=3.0->altair<6,>=4.0->streamlit) (0.18.1)\n",
            "Requirement already satisfied: mdurl~=0.1 in /usr/local/lib/python3.10/dist-packages (from markdown-it-py>=2.2.0->rich<14,>=10.14.0->streamlit) (0.1.2)\n",
            "Requirement already satisfied: six>=1.5 in /usr/local/lib/python3.10/dist-packages (from python-dateutil>=2.8.2->pandas<3,>=1.3.0->streamlit) (1.16.0)\n",
            "Installing collected packages: watchdog, smmap, pydeck, gitdb, gitpython, streamlit\n",
            "Successfully installed gitdb-4.0.11 gitpython-3.1.43 pydeck-0.9.1 smmap-5.0.1 streamlit-1.34.0 watchdog-4.0.0\n"
          ]
        }
      ]
    },
    {
      "cell_type": "code",
      "source": [
        "import streamlit as st\n",
        "from PIL import Image\n",
        "from keras.models import load_model\n",
        "import numpy as np\n",
        "\n",
        "# Load the pre-trained model\n",
        "model = load_model('traffic_classifier.h5')\n",
        "\n",
        "# Define traffic sign classes\n",
        "classes = {\n",
        "    1: 'Speed limit (20km/h)',\n",
        "    2: 'Speed limit (30km/h)',\n",
        "    # Add other classes...\n",
        "}\n",
        "\n",
        "# Page layout\n",
        "st.title('Traffic Sign Classification')\n",
        "st.sidebar.title('Upload Image')\n",
        "uploaded_file = st.sidebar.file_uploader(\"Choose an image...\", type=[\"jpg\", \"jpeg\", \"png\"])\n",
        "\n",
        "# Image classification\n",
        "if uploaded_file is not None:\n",
        "    image = Image.open(uploaded_file)\n",
        "    st.image(image, caption='Uploaded Image.', use_column_width=True)\n",
        "    st.write('')\n",
        "    st.write('Classifying...')\n",
        "\n",
        "    # Preprocess image\n",
        "    image = image.resize((30, 30))\n",
        "    image = np.expand_dims(image, axis=0)\n",
        "    image = np.array(image)\n",
        "\n",
        "    # Predict class\n",
        "    pred = model.predict_classes(image)[0]\n",
        "    sign = classes.get(pred + 1, 'Unknown')\n",
        "    st.write(f'Predicted Traffic Sign: {sign}')\n"
      ],
      "metadata": {
        "colab": {
          "base_uri": "https://localhost:8080/"
        },
        "id": "h86FjW9WAmuR",
        "outputId": "eca6b08c-8703-41db-f36d-cd33af8c97b2"
      },
      "execution_count": 23,
      "outputs": [
        {
          "output_type": "stream",
          "name": "stderr",
          "text": [
            "2024-05-17 15:58:10.495 \n",
            "  \u001b[33m\u001b[1mWarning:\u001b[0m to view this Streamlit app on a browser, run it with the following\n",
            "  command:\n",
            "\n",
            "    streamlit run /usr/local/lib/python3.10/dist-packages/colab_kernel_launcher.py [ARGUMENTS]\n"
          ]
        }
      ]
    },
    {
      "cell_type": "markdown",
      "metadata": {
        "id": "JRBZgMGx17yk"
      },
      "source": [
        "here the first user will get an upload button, as he/she uploads as image classify button will be visible. when the user will trigger classify button classify function will be called along with a file path where we first process the image and feed it to the model to predict its respective class and whatever class in between 0-42 predicted by the model we access its categorical name from classes dictionary and display it on screen."
      ]
    },
    {
      "cell_type": "code",
      "source": [],
      "metadata": {
        "id": "ho2w-jfWRLwk"
      },
      "execution_count": null,
      "outputs": []
    }
  ],
  "metadata": {
    "colab": {
      "provenance": [],
      "mount_file_id": "16rHkoaqHA83sSMEQ3j-_-q74lR6RYCM7",
      "authorship_tag": "ABX9TyOvDchjjD1wuUCQCOD3GPQt",
      "include_colab_link": true
    },
    "kernelspec": {
      "display_name": "Python 3",
      "name": "python3"
    },
    "language_info": {
      "name": "python"
    }
  },
  "nbformat": 4,
  "nbformat_minor": 0
}